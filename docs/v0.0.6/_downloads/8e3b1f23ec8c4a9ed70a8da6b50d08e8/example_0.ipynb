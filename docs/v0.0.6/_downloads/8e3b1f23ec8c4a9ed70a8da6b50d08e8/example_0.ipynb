{
  "cells": [
    {
      "cell_type": "markdown",
      "metadata": {},
      "source": [
        "\n# Workflow - 0\nThis shows how to use TypedUnits for unit validation in a function.\n"
      ]
    },
    {
      "cell_type": "code",
      "execution_count": null,
      "metadata": {
        "collapsed": false
      },
      "outputs": [],
      "source": [
        "from TypedUnit import Energy, Time, Power, validate_units, ureg\n\n# Normal Pint instantiation\nenergy = 100 * ureg.joule\ntime = 10 * ureg.second\n\n# But now isinstance works!\nassert isinstance(energy, Energy)  # True\nassert isinstance(time, Time)      # True\n\n@validate_units\ndef calculate_power(energy: Energy, time: Time) -> Power:\n    \"\"\"Function with automatic unit validation.\"\"\"\n    return (energy / time).to(ureg.watt)\n\n# This works\npower = calculate_power(energy, time)\nprint(f\"Power: {power}\")\n\n# This fails with clear error message\nlength = 5 * ureg.meter\n# calculate_power(length, time)  # TypeError: Expected Energy,"
      ]
    }
  ],
  "metadata": {
    "kernelspec": {
      "display_name": "Python 3",
      "language": "python",
      "name": "python3"
    },
    "language_info": {
      "codemirror_mode": {
        "name": "ipython",
        "version": 3
      },
      "file_extension": ".py",
      "mimetype": "text/x-python",
      "name": "python",
      "nbconvert_exporter": "python",
      "pygments_lexer": "ipython3",
      "version": "3.11.13"
    }
  },
  "nbformat": 4,
  "nbformat_minor": 0
}